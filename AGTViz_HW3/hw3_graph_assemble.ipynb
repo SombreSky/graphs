{
 "cells": [
  {
   "cell_type": "markdown",
   "metadata": {},
   "source": [
    "# Homework №3\n",
    "\n",
    "### <center>Student: *Maksimov Konstantin*</center>\n",
    "\n",
    "# Description\n",
    "\n",
    "1. Those how are making projects on artilces: half of you need to choose co-authorship graph, others - citation (but consider citation graph as undirected for simplicity)\n",
    "2. Use weighted graph so that it would give you ability to calculate embeddings in more appropriate way\n",
    "\n",
    "### Guidelines:\n",
    "\n",
    "1. Initiallize your classification set as follows:\n",
    "    * Determine training and testing intervals on your time domain (for example, take a period $2000$-$2014$ as training period and $2015$-$2018$ as testing period)\n",
    "    * Pick pairs of nodes that **have appeared during training interval** but **had no links** during it\n",
    "    * These pairs form **positive** or **negative** examples depending on whether they have formed coauthorships **during the testing interval**\n",
    "    * You have arrived to binary classification problem.\n",
    "2. Construct feature space:\n",
    "    * Use at least 2 features based on neighborhood \n",
    "    * Use at least 2 fetures based on shortest path\n",
    "    * Use embedding representation of nodes' pairs (for example, node2vec)\n",
    "    * Use idea of time series features (with time lag)\n",
    "    * Use idea of change-point detection\n",
    "3. Choose at least $3$ classification algorithms and compare them in terms of Accuracy, Precision, Recall, F-Score (for positive class) and Mean Squared Error. Use k-fold cross-validation and average your results"
   ]
  },
  {
   "cell_type": "code",
   "execution_count": 6,
   "metadata": {},
   "outputs": [],
   "source": [
    "import pandas as pd\n",
    "import networkx as nx\n",
    "from tqdm import tqdm\n",
    "import itertools\n",
    "from networkx.algorithms.centrality import katz_centrality_numpy\n",
    "from networkx.algorithms.link_prediction import jaccard_coefficient, adamic_adar_index\n",
    "from networkx.algorithms.shortest_paths import shortest_path_length\n",
    "from networkx.algorithms.link_analysis.pagerank_alg import pagerank\n",
    "from networkx.classes.function import density\n",
    "from node2vec.edges import HadamardEmbedder\n",
    "import pickle\n",
    "from sklearn.metrics import accuracy_score, precision_score, recall_score, f1_score, mean_squared_error\n",
    "import warnings\n",
    "warnings.filterwarnings('ignore')"
   ]
  },
  {
   "cell_type": "markdown",
   "metadata": {},
   "source": [
    "### 1. Initiallizing"
   ]
  },
  {
   "cell_type": "code",
   "execution_count": 2,
   "metadata": {},
   "outputs": [],
   "source": [
    "data = pd.read_csv(\"data1.csv\")"
   ]
  },
  {
   "cell_type": "code",
   "execution_count": 3,
   "metadata": {},
   "outputs": [
    {
     "data": {
      "text/plain": [
       "Journal of High Energy Physics                  2405\n",
       "Annals of Surgical Oncology                     1132\n",
       "Hydrobiologia                                    888\n",
       "Water Resources Management                       654\n",
       "Environmental Monitoring and Assessment          580\n",
       "Genome Biology                                   512\n",
       "Environmental Geology                            404\n",
       "Applied Biochemistry and Biotechnology           392\n",
       "Breast Cancer Research                           386\n",
       "Journal of Neuro-Oncology                        375\n",
       "Environmental Science and Pollution Research     374\n",
       "Journal of Geodesy                               373\n",
       "International Orthopaedics                       366\n",
       "European Radiology                               365\n",
       "Parasitology Research                            353\n",
       "Water, Air, and Soil Pollution                   342\n",
       "Name: Source, dtype: int64"
      ]
     },
     "execution_count": 3,
     "metadata": {},
     "output_type": "execute_result"
    }
   ],
   "source": [
    "data[\"Source\"].value_counts()"
   ]
  },
  {
   "cell_type": "code",
   "execution_count": 4,
   "metadata": {},
   "outputs": [],
   "source": [
    "data = data[data[\"Source\"] == \"Journal of Geodesy\"]"
   ]
  },
  {
   "cell_type": "code",
   "execution_count": 5,
   "metadata": {},
   "outputs": [
    {
     "data": {
      "text/plain": [
       "1990     1\n",
       "1995     3\n",
       "1996     6\n",
       "1997    17\n",
       "1998    13\n",
       "1999    13\n",
       "2000    10\n",
       "2001    24\n",
       "2002    14\n",
       "2003    23\n",
       "2004    11\n",
       "2005    22\n",
       "2006    19\n",
       "2007    23\n",
       "2008    25\n",
       "2009    38\n",
       "2010    17\n",
       "2011    28\n",
       "2012    16\n",
       "2013    18\n",
       "2014     9\n",
       "2015    11\n",
       "2016     7\n",
       "2017     4\n",
       "2019     1\n",
       "Name: Year, dtype: int64"
      ]
     },
     "execution_count": 5,
     "metadata": {},
     "output_type": "execute_result"
    }
   ],
   "source": [
    "data[\"Year\"].value_counts(sort =False)"
   ]
  },
  {
   "cell_type": "markdown",
   "metadata": {},
   "source": [
    "- Graph assembling function"
   ]
  },
  {
   "cell_type": "code",
   "execution_count": 7,
   "metadata": {},
   "outputs": [],
   "source": [
    "def graph_assemble(d, year1, year2):\n",
    "    data = d.copy()\n",
    "    data[\"Authors\"] = data[\"Authors\"].apply(lambda x: x.split(\"; \"))\n",
    "    data[\"Authors\"] = data[\"Authors\"].apply(lambda y: [' '.join(x.strip().lower().split('.')).replace(' -', ' ').strip() \n",
    "                                                       for x in y])\n",
    "    data[\"Authors\"] = data[\"Authors\"].apply(lambda x: x[:200] if len(x) > 200 else x)\n",
    "\n",
    "    coauthors = {}\n",
    "\n",
    "    for art in tqdm(data[\"Authors\"].loc[(data.Year <= year2) & (data.Year > year1)].values):\n",
    "        for x in itertools.permutations(art, r=2):\n",
    "            coauthors[x] = coauthors.get(x, 0) + 1\n",
    "\n",
    "    G = nx.Graph()\n",
    "    G.add_edges_from([key + tuple([{'weight': value}]) for key,value in coauthors.items()])\n",
    "    G.add_nodes_from(list(itertools.chain(*data[\"Authors\"].values)))\n",
    "    \n",
    "    return G"
   ]
  },
  {
   "cell_type": "markdown",
   "metadata": {},
   "source": [
    "- Prepare 10 training and 1 testing chunks"
   ]
  },
  {
   "cell_type": "code",
   "execution_count": 8,
   "metadata": {},
   "outputs": [],
   "source": [
    "def generate_graphs(data, t_len = 5, n_iter = 12, test_year = 2013):\n",
    "    graphs = []\n",
    "    for i in range(n_iter,-1,-3):\n",
    "        graphs.append(graph_assemble(data.loc[(data.Year <= test_year) & (data.Year > test_year - t_len - n_iter)],\n",
    "                                     year1 = test_year - i - t_len,\n",
    "                                     year2 = test_year - i))\n",
    "    return graphs"
   ]
  },
  {
   "cell_type": "code",
   "execution_count": 9,
   "metadata": {},
   "outputs": [
    {
     "name": "stderr",
     "output_type": "stream",
     "text": [
      "100%|███████████████████████████████████████| 77/77 [00:00<00:00, 38498.20it/s]\n",
      "100%|██████████████████████████████████████████████████| 82/82 [00:00<?, ?it/s]\n",
      "100%|███████████████████████████████████████| 98/98 [00:00<00:00, 98007.10it/s]\n",
      "100%|█████████████████████████████████████| 122/122 [00:00<00:00, 60997.15it/s]\n",
      "100%|█████████████████████████████████████| 117/117 [00:00<00:00, 58490.29it/s]\n"
     ]
    }
   ],
   "source": [
    "gs = generate_graphs(data)"
   ]
  },
  {
   "cell_type": "markdown",
   "metadata": {},
   "source": [
    "### 2. Feature space constructing\n",
    "Function which generates our dataset. Features implemented:\n",
    "- Katz centrality\n",
    "- PageRank\n",
    "- Adam Score\n",
    "- Jaccard coefficient\n",
    "- Node2Vec whith HadamardEmbedder\n",
    "- Graph density\n",
    "- 1-4 feauters from previous period as time lag"
   ]
  },
  {
   "cell_type": "code",
   "execution_count": 10,
   "metadata": {},
   "outputs": [],
   "source": [
    "def generate_train_target(gs):\n",
    "    train = []\n",
    "    target = []\n",
    "\n",
    "    for i in tqdm(range(0, len(gs) - 1)):\n",
    "#     for i in tqdm(range(0, 2)):\n",
    "        katz = katz_centrality_numpy(gs[i])\n",
    "        page = pagerank(gs[i])\n",
    "        adam = {tuple(sorted(list(elem[:2]))): elem[2] for elem in adamic_adar_index(gs[i])}\n",
    "        jaccard = {tuple(sorted(list(elem[:2]))): elem[2] for elem in jaccard_coefficient(gs[i])}\n",
    "        node2vec = Node2Vec(gs[i], dimensions=10, walk_length=30, num_walks=200, workers=4)\n",
    "        model = node2vec.fit(window=10, min_count=1, batch_words=4)\n",
    "        edges_embs = HadamardEmbedder(keyed_vectors=model.wv)\n",
    "        dens = density(gs[i])\n",
    "        tr = {}\n",
    "        tar = {}\n",
    "        for x in itertools.permutations(gs[i].nodes(), r=2):\n",
    "            x = tuple(sorted(list(x)))\n",
    "            if x not in gs[i].edges():\n",
    "                temp = []\n",
    "                tar[x] = 0\n",
    "                temp.append(katz[x[0]])\n",
    "                temp.append(katz[x[1]])\n",
    "                temp.append(page[x[0]])\n",
    "                temp.append(page[x[1]])\n",
    "                temp.append(adam[tuple(x)])\n",
    "                temp.append(jaccard[tuple(x)])\n",
    "                temp += list(edges_embs[x])\n",
    "                temp.append(dens)\n",
    "                try:\n",
    "                    temp += train[i-1][x][0:6]\n",
    "                except:\n",
    "                    temp += [0,0,0,0,0,0]\n",
    "                tr[x] = temp\n",
    "                tar[x] = 0\n",
    "        train.append(tr)\n",
    "\n",
    "        for edge in list(set(gs[i+1].edges()) - set(gs[i].edges())):\n",
    "            tar[edge] = 1\n",
    "        target.append(tar)\n",
    "\n",
    "    train_final, target_final = [], []\n",
    "    for i in range(len(train) - 1):\n",
    "        for key in train[i].keys():\n",
    "            train_final.append(train[i][key])\n",
    "            target_final.append(target[i][key])\n",
    "      \n",
    "    test_x, test_y = [], []\n",
    "    for key in train[-1].keys():\n",
    "        test_x.append(train[-1][key])\n",
    "        test_y.append(target[-1][key])\n",
    "    return train_final, target_final, test_x, test_y\n",
    "            "
   ]
  },
  {
   "cell_type": "code",
   "execution_count": 11,
   "metadata": {},
   "outputs": [
    {
     "name": "stderr",
     "output_type": "stream",
     "text": [
      "100%|█████████████████████████████████████████| 10/10 [45:07<00:00, 431.77s/it]\n"
     ]
    }
   ],
   "source": [
    "train_x, train_y, test_x, test_y = generate_train_target(gs)"
   ]
  },
  {
   "cell_type": "code",
   "execution_count": 43,
   "metadata": {},
   "outputs": [
    {
     "data": {
      "text/plain": [
       "[-6.086269762471318e-18,\n",
       " -6.086269762471318e-18,\n",
       " 0.0005225376020421457,\n",
       " 0.0005225376020421457,\n",
       " 0,\n",
       " 0,\n",
       " -0.00089986785,\n",
       " 0.00017678,\n",
       " -0.0013124957,\n",
       " 2.2390188e-05,\n",
       " -0.00040426466,\n",
       " 2.1818907e-05,\n",
       " 7.1167866e-05,\n",
       " -0.0021097376,\n",
       " -0.0013060892,\n",
       " -0.0011152822,\n",
       " 0.0020358658927488523,\n",
       " 0.03335875321337631,\n",
       " 0.03335875321337631,\n",
       " 0.0007786254889089689,\n",
       " 0.0007786254889089689,\n",
       " 0,\n",
       " 0]"
      ]
     },
     "execution_count": 43,
     "metadata": {},
     "output_type": "execute_result"
    }
   ],
   "source": [
    "train_x[-1000]"
   ]
  },
  {
   "cell_type": "code",
   "execution_count": 13,
   "metadata": {},
   "outputs": [],
   "source": [
    "dataset = [train_x, train_y, test_x, test_y]"
   ]
  },
  {
   "cell_type": "code",
   "execution_count": null,
   "metadata": {},
   "outputs": [],
   "source": [
    "with open('dataset2.pickle', 'wb') as f:\n",
    "    pickle.dump(dataset, f, protocol=pickle.HIGHEST_PROTOCOL)"
   ]
  },
  {
   "cell_type": "markdown",
   "metadata": {},
   "source": [
    "### 3. Classification"
   ]
  },
  {
   "cell_type": "code",
   "execution_count": 11,
   "metadata": {},
   "outputs": [],
   "source": [
    "with open('dataset2.pickle', 'rb') as handle:\n",
    "    dataset = pickle.load(handle)\n",
    "train_x, train_y, test_x, test_y = dataset[0], dataset[1], dataset[2], dataset[3]"
   ]
  },
  {
   "cell_type": "code",
   "execution_count": 12,
   "metadata": {},
   "outputs": [],
   "source": [
    "from sklearn.metrics import roc_curve, roc_auc_score\n",
    "from sklearn.metrics import confusion_matrix, precision_recall_curve, average_precision_score\n",
    "import itertools\n",
    "%matplotlib inline\n",
    "import matplotlib.pyplot as plt\n",
    "\n",
    "def ROC_PR(y_test, predict_proba):\n",
    "    #ROC curve\n",
    "    fpr, tpr, thresholds_roc = roc_curve(y_test, predict_proba)\n",
    "    auc_roc_area = roc_auc_score(y_test, predict_proba)\n",
    "\n",
    "    #PR curve\n",
    "    precision, recall, thresholds_pr = precision_recall_curve(y_test, predict_proba)\n",
    "    pr_area = average_precision_score(y_test, predict_proba)\n",
    "\n",
    "    f, (ax1, ax2) = plt.subplots(1, 2, figsize=(15, 5))\n",
    "\n",
    "    ax1.plot(fpr, tpr, label=\"ROC curve\")\n",
    "    ax1.plot([0, 1], [0, 1], linestyle='--', label='y = x')\n",
    "    ax1.fill_between(fpr, tpr, alpha=0.1)\n",
    "    ax1.set_xlabel(\"False positive rate\")\n",
    "    ax1.set_ylabel(\"True positive rate\")\n",
    "    ax1.set_title('ROC-curve')\n",
    "    ax1.legend()\n",
    "    ax1.grid()\n",
    "\n",
    "    ax2.step(recall, precision, label=\"PR curve\")\n",
    "    ax2.fill_between(recall, precision, alpha=0.1)\n",
    "    ax2.set_xlabel(\"Recall\")\n",
    "    ax2.set_ylabel(\"Precision\")\n",
    "    ax2.set_title(\"PR-curve\")\n",
    "    ax2.legend()\n",
    "    ax2.grid()\n",
    "    plt.show()\n",
    "\n",
    "    print(\"ROC-AUC = {:.4}\".format(auc_roc_area))\n",
    "    print(\"PR-AUC = {:.4}\".format(pr_area))"
   ]
  },
  {
   "cell_type": "code",
   "execution_count": 13,
   "metadata": {},
   "outputs": [],
   "source": [
    "def stats(test_y, pred):\n",
    "    print(\"Accuracy: \", accuracy_score(test_y, pred))\n",
    "    print(\"Precision: \", precision_score(test_y, pred))\n",
    "    print(\"Recall: \", recall_score(test_y, pred))\n",
    "    print(\"Fscore: \", f1_score(test_y, pred))\n",
    "    print(\"MSE: \", mean_squared_error(test_y, pred))"
   ]
  },
  {
   "cell_type": "markdown",
   "metadata": {},
   "source": [
    "### 3.1 Logistic Regression"
   ]
  },
  {
   "cell_type": "code",
   "execution_count": 14,
   "metadata": {},
   "outputs": [],
   "source": [
    "from sklearn.linear_model import LogisticRegression"
   ]
  },
  {
   "cell_type": "code",
   "execution_count": 15,
   "metadata": {},
   "outputs": [
    {
     "data": {
      "text/plain": [
       "LogisticRegression(C=1.0, class_weight=None, dual=False, fit_intercept=True,\n",
       "          intercept_scaling=1, max_iter=100, multi_class='warn',\n",
       "          n_jobs=None, penalty='l2', random_state=None, solver='lbfgs',\n",
       "          tol=0.0001, verbose=0, warm_start=False)"
      ]
     },
     "execution_count": 15,
     "metadata": {},
     "output_type": "execute_result"
    }
   ],
   "source": [
    "clf1 = LogisticRegression(solver = 'lbfgs')\n",
    "clf1.fit(train_x, train_y)"
   ]
  },
  {
   "cell_type": "code",
   "execution_count": 16,
   "metadata": {},
   "outputs": [],
   "source": [
    "pred1 =  clf1.predict(test_x)"
   ]
  },
  {
   "cell_type": "code",
   "execution_count": 17,
   "metadata": {},
   "outputs": [
    {
     "name": "stdout",
     "output_type": "stream",
     "text": [
      "Accuracy:  0.998048411563\n",
      "Precision:  0.0\n",
      "Recall:  0.0\n",
      "Fscore:  0.0\n",
      "MSE:  0.00195158843651\n"
     ]
    }
   ],
   "source": [
    "stats(test_y, pred1)"
   ]
  },
  {
   "cell_type": "code",
   "execution_count": 18,
   "metadata": {},
   "outputs": [
    {
     "data": {
      "image/png": "[encoded data removed]",
      "text/plain": [
       "<Figure size 1080x360 with 2 Axes>"
      ]
     },
     "metadata": {
      "needs_background": "light"
     },
     "output_type": "display_data"
    },
    {
     "name": "stdout",
     "output_type": "stream",
     "text": [
      "ROC-AUC = 0.5778\n",
      "PR-AUC = 0.002044\n"
     ]
    }
   ],
   "source": [
    "ROC_PR(test_y, clf1.predict_proba(test_x)[:, 1])"
   ]
  },
  {
   "cell_type": "markdown",
   "metadata": {},
   "source": [
    "### 3.2 AdaBoost whith bagging"
   ]
  },
  {
   "cell_type": "code",
   "execution_count": 19,
   "metadata": {},
   "outputs": [],
   "source": [
    "from imblearn.ensemble import EasyEnsembleClassifier"
   ]
  },
  {
   "cell_type": "code",
   "execution_count": 20,
   "metadata": {},
   "outputs": [
    {
     "data": {
      "text/plain": [
       "EasyEnsembleClassifier(base_estimator=None, n_estimators=100, n_jobs=8,\n",
       "            random_state=None, replacement=False, sampling_strategy='auto',\n",
       "            verbose=0, warm_start=False)"
      ]
     },
     "execution_count": 20,
     "metadata": {},
     "output_type": "execute_result"
    }
   ],
   "source": [
    "clf2 = EasyEnsembleClassifier(n_estimators = 100, n_jobs = 8)\n",
    "clf2.fit(train_x, train_y)"
   ]
  },
  {
   "cell_type": "code",
   "execution_count": 21,
   "metadata": {},
   "outputs": [],
   "source": [
    "pred2 =  clf2.predict(test_x)"
   ]
  },
  {
   "cell_type": "code",
   "execution_count": 22,
   "metadata": {},
   "outputs": [
    {
     "name": "stdout",
     "output_type": "stream",
     "text": [
      "Accuracy:  0.806540646502\n",
      "Precision:  0.00591782295846\n",
      "Recall:  0.619718309859\n",
      "Fscore:  0.0117236938517\n",
      "MSE:  0.193459353498\n"
     ]
    }
   ],
   "source": [
    "stats(test_y, pred2)"
   ]
  },
  {
   "cell_type": "code",
   "execution_count": 23,
   "metadata": {},
   "outputs": [
    {
     "data": {
      "image/png": "[encoded data removed]",
      "text/plain": [
       "<Figure size 1080x360 with 2 Axes>"
      ]
     },
     "metadata": {
      "needs_background": "light"
     },
     "output_type": "display_data"
    },
    {
     "name": "stdout",
     "output_type": "stream",
     "text": [
      "ROC-AUC = 0.759\n",
      "PR-AUC = 0.005581\n"
     ]
    }
   ],
   "source": [
    "ROC_PR(test_y, clf2.predict_proba(test_x)[:, 1])"
   ]
  },
  {
   "cell_type": "markdown",
   "metadata": {},
   "source": [
    "### 3.3 RandomForest whith balancing"
   ]
  },
  {
   "cell_type": "code",
   "execution_count": 24,
   "metadata": {},
   "outputs": [],
   "source": [
    "from imblearn.ensemble import BalancedRandomForestClassifier"
   ]
  },
  {
   "cell_type": "code",
   "execution_count": 37,
   "metadata": {},
   "outputs": [
    {
     "data": {
      "text/plain": [
       "BalancedRandomForestClassifier(bootstrap=True, class_weight=None,\n",
       "                criterion='gini', max_depth=None, max_features='auto',\n",
       "                max_leaf_nodes=None, min_impurity_decrease=0.0,\n",
       "                min_samples_leaf=2, min_samples_split=2,\n",
       "                min_weight_fraction_leaf=0.0, n_estimators=200, n_jobs=8,\n",
       "                oob_score=False, random_state=None, replacement=False,\n",
       "                sampling_strategy='auto', verbose=0, warm_start=False)"
      ]
     },
     "execution_count": 37,
     "metadata": {},
     "output_type": "execute_result"
    }
   ],
   "source": [
    "clf3 = BalancedRandomForestClassifier(n_estimators = 200, n_jobs = 8)\n",
    "clf3.fit(train_x, train_y)"
   ]
  },
  {
   "cell_type": "code",
   "execution_count": 38,
   "metadata": {},
   "outputs": [],
   "source": [
    "pred3 =  clf3.predict(test_x)"
   ]
  },
  {
   "cell_type": "code",
   "execution_count": 39,
   "metadata": {},
   "outputs": [
    {
     "name": "stdout",
     "output_type": "stream",
     "text": [
      "Accuracy:  0.886877415036\n",
      "Precision:  0.00685775928494\n",
      "Recall:  0.417840375587\n",
      "Fscore:  0.0134940489728\n",
      "MSE:  0.113122584964\n"
     ]
    }
   ],
   "source": [
    "stats(test_y, pred3)"
   ]
  },
  {
   "cell_type": "code",
   "execution_count": 40,
   "metadata": {},
   "outputs": [
    {
     "data": {
      "image/png": "[encoded data removed]",
      "text/plain": [
       "<Figure size 1080x360 with 2 Axes>"
      ]
     },
     "metadata": {
      "needs_background": "light"
     },
     "output_type": "display_data"
    },
    {
     "name": "stdout",
     "output_type": "stream",
     "text": [
      "ROC-AUC = 0.7355\n",
      "PR-AUC = 0.00522\n"
     ]
    }
   ],
   "source": [
    "ROC_PR(test_y, clf3.predict_proba(test_x)[:, 1])"
   ]
  },
  {
   "cell_type": "markdown",
   "metadata": {},
   "source": [
    "### 4. Conclusion.\n",
    "Unfortunately our experiment is unsuccessful. It seems impossible to obtain good precision score on choosen dataset. Probably it is due to huge level of imbalancing (less than 0.1% elements belongs to positive class) and relatevly small data sample (which is specified by really time consuming features construction process and limited number of possible rows in training dataset).  \n",
    "\n",
    "However classifers which utilise balancing technicues demonstrates little better perfomance, than standart ones."
   ]
  },
  {
   "cell_type": "code",
   "execution_count": null,
   "metadata": {},
   "outputs": [],
   "source": []
  }
 ],
 "metadata": {
  "kernelspec": {
   "display_name": "Python 3",
   "language": "python",
   "name": "python3"
  },
  "language_info": {
   "codemirror_mode": {
    "name": "ipython",
    "version": 3
   },
   "file_extension": ".py",
   "mimetype": "text/x-python",
   "name": "python",
   "nbconvert_exporter": "python",
   "pygments_lexer": "ipython3",
   "version": "3.6.7"
  }
 },
 "nbformat": 4,
 "nbformat_minor": 2
}
